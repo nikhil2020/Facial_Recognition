{
 "cells": [
  {
   "cell_type": "markdown",
   "metadata": {},
   "source": [
    "# Facial Recognition Project"
   ]
  },
  {
   "cell_type": "code",
   "execution_count": 688,
   "metadata": {
    "scrolled": false
   },
   "outputs": [
    {
     "name": "stdout",
     "output_type": "stream",
     "text": [
      "\u001b[01;34m.\u001b[00m\r\n",
      "├── File_to_Run.ipynb\r\n",
      "├── \u001b[01;34mNikhil\u001b[00m\r\n",
      "│   ├── \u001b[01;35m00000.jpeg\u001b[00m\r\n",
      "│   ├── \u001b[01;35m00001.jpeg\u001b[00m\r\n",
      "│   ├── \u001b[01;35m00002.jpeg\u001b[00m\r\n",
      "│   ├── \u001b[01;35m00003.jpeg\u001b[00m\r\n",
      "│   ├── \u001b[01;35m00004.jpeg\u001b[00m\r\n",
      "│   ├── \u001b[01;35m00005.jpeg\u001b[00m\r\n",
      "│   ├── \u001b[01;35m00006.jpeg\u001b[00m\r\n",
      "│   ├── \u001b[01;35m00007.jpeg\u001b[00m\r\n",
      "│   ├── \u001b[01;35m00008.jpeg\u001b[00m\r\n",
      "│   ├── \u001b[01;35m00009.jpeg\u001b[00m\r\n",
      "│   ├── \u001b[01;35m00010.jpeg\u001b[00m\r\n",
      "│   ├── \u001b[01;35m00011.jpeg\u001b[00m\r\n",
      "│   ├── \u001b[01;35m00012.jpeg\u001b[00m\r\n",
      "│   ├── \u001b[01;35m00013.jpeg\u001b[00m\r\n",
      "│   ├── \u001b[01;35m00014.jpeg\u001b[00m\r\n",
      "│   └── \u001b[01;35mNight.jpg\u001b[00m\r\n",
      "├── \u001b[01;34madrian\u001b[00m\r\n",
      "│   ├── \u001b[01;35m00001.jpeg\u001b[00m\r\n",
      "│   ├── 00001.png\r\n",
      "│   ├── \u001b[01;35m00002.jpeg\u001b[00m\r\n",
      "│   ├── \u001b[01;35m00002.jpg\u001b[00m\r\n",
      "│   ├── \u001b[01;35m00003.jpeg\u001b[00m\r\n",
      "│   ├── \u001b[01;35m00003.jpg\u001b[00m\r\n",
      "│   ├── \u001b[01;35m00004.jpeg\u001b[00m\r\n",
      "│   ├── \u001b[01;35m00004.jpg\u001b[00m\r\n",
      "│   ├── \u001b[01;35m00005.jpeg\u001b[00m\r\n",
      "│   ├── \u001b[01;35m00005.jpg\u001b[00m\r\n",
      "│   ├── \u001b[01;35madrain.jpeg\u001b[00m\r\n",
      "│   └── \u001b[01;35madrian.jpg\u001b[00m\r\n",
      "├── \u001b[01;34mdataset\u001b[00m\r\n",
      "│   ├── \u001b[01;34mJohnny_Depp\u001b[00m\r\n",
      "│   │   ├── \u001b[01;35m1.jpg\u001b[00m\r\n",
      "│   │   ├── \u001b[01;35m10.jpg\u001b[00m\r\n",
      "│   │   ├── \u001b[01;35m12.jpg\u001b[00m\r\n",
      "│   │   ├── \u001b[01;35m15.jpeg\u001b[00m\r\n",
      "│   │   ├── \u001b[01;35m16.jpeg\u001b[00m\r\n",
      "│   │   ├── \u001b[01;35m18.jpg\u001b[00m\r\n",
      "│   │   ├── \u001b[01;35m19.jpg\u001b[00m\r\n",
      "│   │   ├── \u001b[01;35m21.jpg\u001b[00m\r\n",
      "│   │   ├── \u001b[01;35m24.jpg\u001b[00m\r\n",
      "│   │   ├── \u001b[01;35m3.jpg\u001b[00m\r\n",
      "│   │   ├── \u001b[01;35m4.jpg\u001b[00m\r\n",
      "│   │   ├── \u001b[01;35m5.jpg\u001b[00m\r\n",
      "│   │   ├── \u001b[01;35m6.jpg\u001b[00m\r\n",
      "│   │   ├── \u001b[01;35m7.jpg\u001b[00m\r\n",
      "│   │   └── \u001b[01;35mpirateNV.jpeg\u001b[00m\r\n",
      "│   └── \u001b[01;34melon_musk\u001b[00m\r\n",
      "│       ├── \u001b[01;35mNightVision.jpeg\u001b[00m\r\n",
      "│       ├── \u001b[01;35mim1.jpg\u001b[00m\r\n",
      "│       ├── \u001b[01;35mim10.jpg\u001b[00m\r\n",
      "│       ├── \u001b[01;35mim11.jpg\u001b[00m\r\n",
      "│       ├── \u001b[01;35mim12.jpeg\u001b[00m\r\n",
      "│       ├── \u001b[01;35mim14.jpg\u001b[00m\r\n",
      "│       ├── \u001b[01;35mim16.jpg\u001b[00m\r\n",
      "│       ├── \u001b[01;35mim17.jpg\u001b[00m\r\n",
      "│       ├── \u001b[01;35mim18.jpg\u001b[00m\r\n",
      "│       ├── \u001b[01;35mim19.jpg\u001b[00m\r\n",
      "│       ├── \u001b[01;35mim2.jpg\u001b[00m\r\n",
      "│       ├── \u001b[01;35mim20.jpg\u001b[00m\r\n",
      "│       ├── \u001b[01;35mim21.jpg\u001b[00m\r\n",
      "│       ├── \u001b[01;35mim3.jpg\u001b[00m\r\n",
      "│       ├── \u001b[01;35mim4.jpg\u001b[00m\r\n",
      "│       ├── \u001b[01;35mim5.jpg\u001b[00m\r\n",
      "│       ├── \u001b[01;35mim6.jpg\u001b[00m\r\n",
      "│       └── \u001b[01;35mim7.jpg\u001b[00m\r\n",
      "├── extract_embeddings.py\r\n",
      "├── \u001b[01;34mface_detection_model\u001b[00m\r\n",
      "│   ├── deploy.prototxt\r\n",
      "│   └── res10_300x300_ssd_iter_140000.caffemodel\r\n",
      "├── \u001b[01;34mimages\u001b[00m\r\n",
      "│   ├── 00000006.png\r\n",
      "│   ├── 00000007.png\r\n",
      "│   ├── 007.png\r\n",
      "│   ├── \u001b[01;32mAlex.jpeg\u001b[00m\r\n",
      "│   ├── \u001b[01;35mJonny.jpg\u001b[00m\r\n",
      "│   ├── \u001b[01;35mJonnyNV.jpg\u001b[00m\r\n",
      "│   ├── \u001b[01;35mNV.jpg\u001b[00m\r\n",
      "│   ├── \u001b[01;35mNewNina.jpeg\u001b[00m\r\n",
      "│   ├── \u001b[01;35mNextNina.jpg\u001b[00m\r\n",
      "│   ├── \u001b[01;35mNight.jpg\u001b[00m\r\n",
      "│   ├── \u001b[01;35mNina.jpg\u001b[00m\r\n",
      "│   ├── \u001b[01;35mNinaNV.jpg\u001b[00m\r\n",
      "│   ├── \u001b[01;35mNinaNightV.jpeg\u001b[00m\r\n",
      "│   ├── \u001b[01;35mNinademo.jpeg\u001b[00m\r\n",
      "│   ├── \u001b[01;35madrian.jpg\u001b[00m\r\n",
      "│   ├── \u001b[01;35mbill.jpeg\u001b[00m\r\n",
      "│   ├── \u001b[01;35mbilly.jpg\u001b[00m\r\n",
      "│   ├── \u001b[01;35mcheck.jpeg\u001b[00m\r\n",
      "│   ├── \u001b[01;35melon_demo.jpeg\u001b[00m\r\n",
      "│   ├── \u001b[01;35melon_musk.jpg\u001b[00m\r\n",
      "│   ├── \u001b[01;35melon_muskNV.jpeg\u001b[00m\r\n",
      "│   ├── \u001b[01;35mgrayscale.jpg\u001b[00m\r\n",
      "│   ├── \u001b[01;35mjonnydemo.jpg\u001b[00m\r\n",
      "│   ├── \u001b[01;35mjonnydeppNV.jpeg\u001b[00m\r\n",
      "│   ├── \u001b[01;35mmicroNina.jpg\u001b[00m\r\n",
      "│   ├── \u001b[01;35mnextjonny.jpeg\u001b[00m\r\n",
      "│   ├── \u001b[01;35mnight_vision.jpg\u001b[00m\r\n",
      "│   ├── \u001b[01;35mpatrick_bateman.jpg\u001b[00m\r\n",
      "│   ├── \u001b[01;35mpirate.jpg\u001b[00m\r\n",
      "│   ├── \u001b[01;35mpirateNV.jpeg\u001b[00m\r\n",
      "│   ├── \u001b[01;35mresizeNina.jpg\u001b[00m\r\n",
      "│   ├── \u001b[01;35mtasty.jpeg\u001b[00m\r\n",
      "│   ├── \u001b[01;35mtest.jpeg\u001b[00m\r\n",
      "│   ├── \u001b[01;35mtest0.jpg\u001b[00m\r\n",
      "│   ├── \u001b[01;35mtest007.jpeg\u001b[00m\r\n",
      "│   ├── \u001b[01;35mtest1.jpeg\u001b[00m\r\n",
      "│   ├── \u001b[01;35mtest2.jpeg\u001b[00m\r\n",
      "│   ├── \u001b[01;35mtest3.jpeg\u001b[00m\r\n",
      "│   ├── \u001b[01;35mtest4.jpeg\u001b[00m\r\n",
      "│   ├── \u001b[01;35mtest5.jpeg\u001b[00m\r\n",
      "│   ├── \u001b[01;35mtest6.jpeg\u001b[00m\r\n",
      "│   └── \u001b[01;35mtrisha_adrian.jpg\u001b[00m\r\n",
      "├── openface_nn4.small2.v1.t7\r\n",
      "├── \u001b[01;34moutput\u001b[00m\r\n",
      "│   └── recognizer.pickle\r\n",
      "├── recognize.py\r\n",
      "├── recognize_video.py\r\n",
      "└── train_model.py\r\n",
      "\r\n",
      "8 directories, 112 files\r\n"
     ]
    }
   ],
   "source": [
    "!tree"
   ]
  },
  {
   "cell_type": "code",
   "execution_count": 689,
   "metadata": {},
   "outputs": [
    {
     "name": "stdout",
     "output_type": "stream",
     "text": [
      "[INFO] loading face detector...\n",
      "[INFO] loading face recognizer...\n",
      "[INFO] quantifying faces...\n",
      "[INFO] processing image 1/33\n",
      "[INFO] processing image 2/33\n",
      "[INFO] processing image 3/33\n",
      "[INFO] processing image 4/33\n",
      "[INFO] processing image 5/33\n",
      "[INFO] processing image 6/33\n",
      "[INFO] processing image 7/33\n",
      "[INFO] processing image 8/33\n",
      "[INFO] processing image 9/33\n",
      "[INFO] processing image 10/33\n",
      "[INFO] processing image 11/33\n",
      "[INFO] processing image 12/33\n",
      "[INFO] processing image 13/33\n",
      "[INFO] processing image 14/33\n",
      "[INFO] processing image 15/33\n",
      "[INFO] processing image 16/33\n",
      "[INFO] processing image 17/33\n",
      "[INFO] processing image 18/33\n",
      "[INFO] processing image 19/33\n",
      "[INFO] processing image 20/33\n",
      "[INFO] processing image 21/33\n",
      "[INFO] processing image 22/33\n",
      "[INFO] processing image 23/33\n",
      "[INFO] processing image 24/33\n",
      "[INFO] processing image 25/33\n",
      "[INFO] processing image 26/33\n",
      "[INFO] processing image 27/33\n",
      "[INFO] processing image 28/33\n",
      "[INFO] processing image 29/33\n",
      "[INFO] processing image 30/33\n",
      "[INFO] processing image 31/33\n",
      "[INFO] processing image 32/33\n",
      "[INFO] processing image 33/33\n",
      "[INFO] serializing 33 encodings...\n"
     ]
    }
   ],
   "source": [
    "! python extract_embeddings.py --dataset dataset \\\n",
    "\t--embeddings output/embeddings.pickle \\\n",
    "\t--detector face_detection_model \\\n",
    "\t--embedding-model openface_nn4.small2.v1.t7"
   ]
  },
  {
   "cell_type": "code",
   "execution_count": 690,
   "metadata": {},
   "outputs": [
    {
     "name": "stdout",
     "output_type": "stream",
     "text": [
      "[INFO] loading face embeddings...\r\n",
      "[INFO] encoding labels...\r\n",
      "[INFO] training model...\r\n"
     ]
    }
   ],
   "source": [
    "!python train_model.py --embeddings output/embeddings.pickle \\\n",
    "\t--recognizer output/recognizer.pickle \\\n",
    "\t--le output/le.pickle"
   ]
  },
  {
   "cell_type": "code",
   "execution_count": 691,
   "metadata": {},
   "outputs": [
    {
     "name": "stdout",
     "output_type": "stream",
     "text": [
      "[INFO] loading face detector...\n",
      "[INFO] loading face recognizer...\n",
      "^C\n"
     ]
    }
   ],
   "source": [
    "# Alex Night Vision Image face Detection\n",
    "!python recognize.py --detector face_detection_model \\\n",
    "\t--embedding-model openface_nn4.small2.v1.t7 \\\n",
    "\t--recognizer output/recognizer.pickle \\\n",
    "\t--le output/le.pickle \\\n",
    "\t--image images/Nina.jpg\n"
   ]
  },
  {
   "cell_type": "code",
   "execution_count": 693,
   "metadata": {},
   "outputs": [
    {
     "name": "stdout",
     "output_type": "stream",
     "text": [
      "[INFO] loading face detector...\n",
      "[INFO] loading face recognizer...\n",
      "^C\n"
     ]
    }
   ],
   "source": [
    "# Adrain Trisha image face is detected with label\n",
    "!python recognize.py --detector face_detection_model \\\n",
    "\t--embedding-model openface_nn4.small2.v1.t7 \\\n",
    "\t--recognizer output/recognizer.pickle \\\n",
    "\t--le output/le.pickle \\\n",
    "\t--image images/Jonny.jpg\n",
    "\n"
   ]
  },
  {
   "cell_type": "code",
   "execution_count": 694,
   "metadata": {},
   "outputs": [
    {
     "name": "stdout",
     "output_type": "stream",
     "text": [
      "[INFO] loading face detector...\n",
      "[INFO] loading face recognizer...\n",
      "^C\n"
     ]
    }
   ],
   "source": [
    "# Adrain Image face Detection\n",
    "!python recognize.py --detector face_detection_model \\\n",
    "\t--embedding-model openface_nn4.small2.v1.t7 \\\n",
    "\t--recognizer output/recognizer.pickle \\\n",
    "\t--le output/le.pickle \\\n",
    "\t--image images/JonnyNV.jpg"
   ]
  },
  {
   "cell_type": "code",
   "execution_count": 684,
   "metadata": {},
   "outputs": [
    {
     "name": "stdout",
     "output_type": "stream",
     "text": [
      "[INFO] loading face detector...\n",
      "[INFO] loading face recognizer...\n",
      "^C\n"
     ]
    }
   ],
   "source": [
    "# Alex face is detected\n",
    "!python recognize.py --detector face_detection_model \\\n",
    "\t--embedding-model openface_nn4.small2.v1.t7 \\\n",
    "\t--recognizer output/recognizer.pickle \\\n",
    "\t--le output/le.pickle \\\n",
    "\t--image images/pirate.jpg\n"
   ]
  },
  {
   "cell_type": "raw",
   "metadata": {},
   "source": [
    "# Alex face is detected\n",
    "!python recognize.py --detector face_detection_model \\\n",
    "\t--embedding-model openface_nn4.small2.v1.t7 \\\n",
    "\t--recognizer output/recognizer.pickle \\\n",
    "\t--le output/le.pickle \\\n",
    "\t--image images/pirateNV.jpeg\n",
    "\n"
   ]
  },
  {
   "cell_type": "code",
   "execution_count": 695,
   "metadata": {},
   "outputs": [
    {
     "name": "stdout",
     "output_type": "stream",
     "text": [
      "[INFO] loading face detector...\n",
      "[INFO] loading face recognizer...\n",
      "^C\n"
     ]
    }
   ],
   "source": [
    "# Alex face is detected\n",
    "!python recognize.py --detector face_detection_model \\\n",
    "\t--embedding-model openface_nn4.small2.v1.t7 \\\n",
    "\t--recognizer output/recognizer.pickle \\\n",
    "\t--le output/le.pickle \\\n",
    "\t--image images/elon_musk.jpg\n",
    "\n",
    "\n"
   ]
  },
  {
   "cell_type": "code",
   "execution_count": null,
   "metadata": {},
   "outputs": [
    {
     "name": "stdout",
     "output_type": "stream",
     "text": [
      "[INFO] loading face detector...\n",
      "[INFO] loading face recognizer...\n"
     ]
    }
   ],
   "source": [
    "# Alex face is detected\n",
    "!python recognize.py --detector face_detection_model \\\n",
    "\t--embedding-model openface_nn4.small2.v1.t7 \\\n",
    "\t--recognizer output/recognizer.pickle \\\n",
    "\t--le output/le.pickle \\\n",
    "\t--image images/elon_muskNV.jpeg\n",
    "\n",
    "\n",
    "\n"
   ]
  },
  {
   "cell_type": "code",
   "execution_count": 687,
   "metadata": {},
   "outputs": [
    {
     "name": "stdout",
     "output_type": "stream",
     "text": [
      "[INFO] loading face detector...\n",
      "[INFO] loading face recognizer...\n",
      "^C\n"
     ]
    }
   ],
   "source": [
    "# Alex face is detected\n",
    "!python recognize.py --detector face_detection_model \\\n",
    "\t--embedding-model openface_nn4.small2.v1.t7 \\\n",
    "\t--recognizer output/recognizer.pickle \\\n",
    "\t--le output/le.pickle \\\n",
    "\t--image images/elon_demo.jpeg\n",
    "\n",
    "\n",
    "\n",
    "\n"
   ]
  },
  {
   "cell_type": "code",
   "execution_count": null,
   "metadata": {},
   "outputs": [],
   "source": []
  },
  {
   "cell_type": "code",
   "execution_count": null,
   "metadata": {},
   "outputs": [],
   "source": []
  }
 ],
 "metadata": {
  "kernelspec": {
   "display_name": "Python 3",
   "language": "python",
   "name": "python3"
  },
  "language_info": {
   "codemirror_mode": {
    "name": "ipython",
    "version": 3
   },
   "file_extension": ".py",
   "mimetype": "text/x-python",
   "name": "python",
   "nbconvert_exporter": "python",
   "pygments_lexer": "ipython3",
   "version": "3.6.10"
  }
 },
 "nbformat": 4,
 "nbformat_minor": 4
}
